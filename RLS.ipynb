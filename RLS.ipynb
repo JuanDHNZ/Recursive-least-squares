{
 "cells": [
  {
   "cell_type": "markdown",
   "metadata": {},
   "source": [
    "# Recursive least squares"
   ]
  },
  {
   "cell_type": "markdown",
   "metadata": {},
   "source": [
    "Let $X$ be a design matrix where the number of rows $m$ exceeds the number of columns $n$, and let $y$ the column vector of labels. The weight matrix $w$ that minimizes $\\|Xw-y\\|_2$ (under mild assumptions on $X$) is given by $w = (X^T X)^{-1}X^Ty$. In other words, the entries of $w$ give the coefficients of the linear equation that minimizes the ordinary least squares objective function.  \n",
    "\n",
    "Suppose we want to update our model with new information.  Concretely, suppose we wish to update our regression model with the new observation $\\tilde{x}$ (a column vector) and new label $t$ (a real number). $X$ will be augmented with a new row $\\tilde{x}^T$ to form $\\tilde{X}$, and $y$ will be augmented with the label $t$ to form $\\tilde{y}$. How do we find the new weight vector $\\tilde{w}$ that minimizes $\\|\\tilde{X}\\tilde{w}-\\tilde{y}\\|_2$?"
   ]
  },
  {
   "cell_type": "markdown",
   "metadata": {},
   "source": [
    "## Updating the weight vector\n",
    "The most straightforward answer to the question above is to store $\\tilde{X}$, then compute $\\tilde{w} = (\\tilde{X}^T \\tilde{X})^{-1}\\tilde{X}^T\\tilde{y}$.  This is slow and inefficient:  the usual matrix multiplication algorithm requires $O(n m^2)$ time, and inverting the $n\\times n$ matrix $\\tilde{X}^T \\tilde{X}$ requires $O(n^3)$ time (using Gaussian elimination). Of course, this computation requires us to store the matrix $\\tilde{X}$, requiring $O(mn)$ space. This could become very costly if the number of observations $m$ is large. "
   ]
  },
  {
   "cell_type": "markdown",
   "metadata": {},
   "source": [
    "## Matrix inversion lemma\n",
    "The key to a faster method will be efficiently moving from $(X^T X)^{-1}$ to $(\\tilde{X}^T \\tilde{X})^{-1}$. Define the usual inner product on vectors $x,y\\in \\mathbb{R}^n$ by $\\langle x,y\\rangle := x^T y$. If we already know $(X^T X)^{-1}$, we can compute \n",
    "$(\\tilde{X}^T \\tilde{X})^{-1}$ as follows:\n",
    "\\begin{align*} (\\tilde{X}^T \\tilde{X})^{-1} &= (X^T X + \\tilde{x}\\tilde{x}^T)^{-1} \\\\\n",
    "&= (X^T X)^{-1} - \\alpha (X^T X)^{-1}\\tilde{x}\\tilde{x}^T (X^T X)^{-1}\n",
    "\\end{align*} \n",
    "where $\\alpha = (1+\\langle \\tilde{x}, (X^T X)^{-1} \\tilde{x}\\rangle)^{-1}$. \n",
    "\n",
    "For ease of notation, define $A:=(X^T X)^{-1}$. Define a column vector $z$ by $z=A\\tilde{x}$.  When we combine the equation for $\\tilde{w}$ with our formula for $(\\tilde{X}^T \\tilde{X})^{-1}$, we have  $$ \\tilde{w} = w -\\alpha \\langle x, w+tz\\rangle z+tz.$$"
   ]
  },
  {
   "cell_type": "markdown",
   "metadata": {},
   "source": [
    "## The algorithm"
   ]
  },
  {
   "cell_type": "markdown",
   "metadata": {},
   "source": [
    "In summary, suppose we desire to update a design matrix $X$ and label column vector $y$ with a new observation $\\tilde{x}$ (a column vector) and label $t$, respectively. We have computed $(X^T X)^{-1}$ and we have found $w$ that minimizes $\\|Xw-y\\|_2$.  To find the new weight vector $\\tilde{w}$, we do the following:\n",
    "* $A = (X^T X)^{-1}$ (given),\n",
    "* $z = A\\tilde{x}$\n",
    "* $\\alpha = (1+\\langle \\tilde{x}, z\\rangle)^{-1}$\n",
    "* $w \\leftarrow  w -\\alpha \\langle x, w+tz\\rangle z+tz$\n",
    "* $A \\leftarrow A - \\alpha zz^T$\n",
    "\n",
    "This is the _recursive least squares_ algorithm.  There are many variations on this algorithm that accomplish the same task in different ways.  For example, one version of the algorithm uses the QR decomposition and Givens rotations, instead of the matrix inversion lemma, to update the weight vector.  Another variation explores reducing the importance of old observations; we'll explore that next."
   ]
  },
  {
   "cell_type": "markdown",
   "metadata": {},
   "source": [
    "## Forgetting factor\n",
    "We will now alter the requirements of updating the model by placing more importance on  recent observations. Let $0<\\lambda < 1$ be the \"forgetting factor.\"  Every time an observation is to be added to the design matrix, we first multiply the design matrix by $\\sqrt{\\lambda}$, then append the new observation. \n",
    "\n",
    "Given that we have done this and computed $(X^T X)^{-1}$, the calculation of $(\\tilde{X}^T \\tilde{X})^{-1}$ is similar to before:\n",
    "\\begin{align*}\n",
    "(\\tilde{X}^T \\tilde{X})^{-1} &= (\\lambda X^T X + \\tilde{x}\\tilde{x}^T)^{-1} \\\\\n",
    "&= \\lambda^{-1}(X^T X)^{-1} - \\alpha \\lambda^{-2}(X^T X)^{-1}\\tilde{x}\\tilde{x}^T (X^T X)^{-1}\n",
    "\\end{align*}\n",
    "where $\\alpha = (1+\\langle \\tilde{x}, \\lambda^{-1}(X^T X)^{-1} \\tilde{x}\\rangle)^{-1}$. \n",
    "\n",
    "The algorithm using a forgetting factor is very similar to before.\n",
    "\n",
    "* $A = \\lambda^{-1}(X^T X)^{-1}$ (given),\n",
    "* $z = A\\tilde{x}$\n",
    "* $\\alpha = (1+\\langle \\tilde{x}, z\\rangle)^{-1}$\n",
    "* $w \\leftarrow  w -\\alpha \\langle x, w+tz\\rangle z+tz$\n",
    "* $A \\leftarrow A - \\alpha zz^T$\n"
   ]
  },
  {
   "cell_type": "markdown",
   "metadata": {},
   "source": [
    "## Speed and stability\n",
    "\n",
    "Recall that the naive algorithm for computing $\\tilde{w}$ is $O(n^3+m^2 n)$ time and $O(mn)$ space.  Recursive least squares is considerably better.  The first line of this algorithm requires $O(n^2)$ time (from $A\\tilde{x}$). The second and third lines are also $O(n^2)$. The last line is actually $O(n)$. All told, this algorithm requires $O(n^2)$ time and $O(n^2)$ space. \n",
    "\n",
    "The major disadvantage of recursive least squares is the possibility that, as many observations are added, the weight vector $w$ begins to deviate from the \"true\" weight from round-off error accumulation.  This is beyond the scope of this summary.  Consult [this](http://www.telecom.tuc.gr/Greek/Liavas/publications/On%20the%20Numerical%20Stability%20and%20Accuracy%20of%20the%20Conventional%20Recursive%20Least%20Squares%20Algorithm.pdf) interesting paper for information about necessary conditions will guarantee stability.  "
   ]
  },
  {
   "cell_type": "markdown",
   "metadata": {},
   "source": [
    "## Python implementation"
   ]
  },
  {
   "cell_type": "code",
   "execution_count": 1,
   "metadata": {},
   "outputs": [],
   "source": [
    "class RLS:\n",
    "    def __init__(self, num_vars, lam):\n",
    "        '''\n",
    "        num_vars: number of variables including constant\n",
    "        lam: forgetting factor, usually very close to 1.\n",
    "        '''\n",
    "        self.num_vars = num_vars\n",
    "        \n",
    "        # delta controls the initial state. It can be changed but it must be positive.\n",
    "        delta = 1\n",
    "        self.A = delta*np.matrix(np.identity(self.num_vars))\n",
    "        self.w = np.matrix(np.zeros(self.num_vars))\n",
    "        self.w = self.w.reshape(self.w.shape[1],1)\n",
    "        \n",
    "        # Variables needed for add_obs\n",
    "        self.lam_inv = lam**(-1)\n",
    "        self.sqrt_lam_inv = math.sqrt(self.lam_inv)\n",
    "        \n",
    "        # A priori error\n",
    "        self.a_priori_error = 0\n",
    "        \n",
    "        # Count of number of observations added\n",
    "        self.num_obs = 0\n",
    "\n",
    "    def add_obs(self, x, t):\n",
    "        '''\n",
    "        Add the observation x with label t.\n",
    "        x is a column vector as a numpy matrix\n",
    "        t is a real scalar\n",
    "        '''            \n",
    "        z = self.lam_inv*self.A*x\n",
    "        alpha = float((1 + x.T*z)**(-1))\n",
    "        self.a_priori_error = float(t - self.w.T*x)\n",
    "        self.w = self.w + (t-alpha*float(x.T*(self.w+t*z)))*z\n",
    "        self.A -= alpha*z*z.T\n",
    "        self.num_obs += 1\n",
    "\n",
    "\n",
    "    def get_error(self):\n",
    "        '''\n",
    "        Finds the a priori (instantaneous) error. \n",
    "        Does not calculate the cumulative effect\n",
    "        of round-off errors.\n",
    "        '''\n",
    "        return self.a_priori_error\n",
    "    \n",
    "    def predict(self, x):\n",
    "        '''\n",
    "        Predict the value of observation x. x should be a numpy matrix (col vector)\n",
    "        '''\n",
    "        return self.w.T*x"
   ]
  },
  {
   "cell_type": "markdown",
   "metadata": {},
   "source": [
    "## Testing\n",
    "We test the implementation on a noisy quadratic signal. We will attempt to approximate with a 2nd degree polynomial. In this test, we are looking to see if the weight vector from RLS is close to the weight vector of the quadratic signal."
   ]
  },
  {
   "cell_type": "code",
   "execution_count": 2,
   "metadata": {},
   "outputs": [],
   "source": [
    "import matplotlib.pyplot as plt\n",
    "import seaborn as sns\n",
    "import numpy as np\n",
    "import math\n",
    "sns.set()"
   ]
  },
  {
   "cell_type": "code",
   "execution_count": 3,
   "metadata": {},
   "outputs": [
    {
     "name": "stdout",
     "output_type": "stream",
     "text": [
      "[[-5.05052584]\n",
      " [-3.79993638]\n",
      " [ 0.19999973]]\n"
     ]
    },
    {
     "data": {
      "image/png": "[encoded data removed]",
      "text/plain": [
       "<Figure size 432x288 with 1 Axes>"
      ]
     },
     "metadata": {},
     "output_type": "display_data"
    }
   ],
   "source": [
    "test_size = 1000\n",
    "# Test function\n",
    "f = lambda x: 0.2*x**2-3.8*x-5.1\n",
    "# Gaussian noise to be added to the quadratic signal\n",
    "noise = np.random.randn(test_size)\n",
    "# You can play around with other noise (like sinusoidal)\n",
    "#noise = [np.sin(2*np.pi*i/13) for i in range(test_size)]\n",
    "y = np.array([f(i) for i in range(test_size)])\n",
    "noisy_y = y + noise\n",
    "lam = 0.99\n",
    "LS = RLS(3,lam)\n",
    "pred_x = []\n",
    "pred_y = []\n",
    "for i in range(test_size):\n",
    "    x = np.matrix(np.zeros((1,3)))\n",
    "    x[0,0] = 1\n",
    "    x[0,1] = i\n",
    "    x[0,2] = i**2\n",
    "    pred_x.append(i)\n",
    "    pred_y.append(float(x*LS.w))\n",
    "    LS.add_obs(x.T,noisy_y[i])\n",
    "print(LS.w)\n",
    "# plot the predicted values against the non-noisy output\n",
    "ax = plt.plot(pred_x, y-pred_y)\n",
    "plt.show()"
   ]
  },
  {
   "cell_type": "markdown",
   "metadata": {},
   "source": [
    "This looks good.  The RLS coefficients are near the coefficients that determine y. As the number of observations increases, the difference between predicted values and the non-noisy values hovers near 0."
   ]
  },
  {
   "cell_type": "markdown",
   "metadata": {},
   "source": [
    "## Learning functions\n",
    "We can use RLS to learn functions. Below we approximate $\\frac{3x}{1+10x^2}$ using a 3rd degree polynomial on the interval $[0,1]$ using 1000 evenly spaced points."
   ]
  },
  {
   "cell_type": "code",
   "execution_count": 4,
   "metadata": {},
   "outputs": [
    {
     "data": {
      "image/png": "[encoded data removed]",
      "text/plain": [
       "<Figure size 432x288 with 1 Axes>"
      ]
     },
     "metadata": {},
     "output_type": "display_data"
    }
   ],
   "source": [
    "test_size = 1000\n",
    "# Test function\n",
    "f = lambda x: 3*x/(1+10*x**2)\n",
    "# Gaussian noise to be added to the quadratic signal\n",
    "noise = np.random.randn(test_size)\n",
    "# You can play around with other noise (like sinusoidal)\n",
    "#noise = [np.sin(2*np.pi*i/13) for i in range(1000)]\n",
    "y = np.array([f(i/test_size) for i in range(test_size)])\n",
    "#noisy_y = y + noise\n",
    "lam = 1\n",
    "LS = RLS(4,lam)\n",
    "pred_x = []\n",
    "pred_y = []\n",
    "for i in range(test_size):\n",
    "    x = np.matrix(np.zeros((1,4)))\n",
    "    x[0,0] = 1\n",
    "    x[0,1] = i\n",
    "    x[0,2] = i**2\n",
    "    x[0,3] = i**3\n",
    "    pred_x.append(i)\n",
    "    pred_y.append(float(x*LS.w))\n",
    "    LS.add_obs(x.T,y[i])\n",
    "ax = plt.plot(pred_x, pred_y,label='predicted')\n",
    "_ = plt.plot(pred_x,y,label='actual')\n",
    "plt.legend()\n",
    "plt.show()"
   ]
  },
  {
   "cell_type": "code",
   "execution_count": null,
   "metadata": {},
   "outputs": [],
   "source": []
  }
 ],
 "metadata": {
  "kernelspec": {
   "display_name": "Python 3",
   "language": "python",
   "name": "python3"
  },
  "language_info": {
   "codemirror_mode": {
    "name": "ipython",
    "version": 3
   },
   "file_extension": ".py",
   "mimetype": "text/x-python",
   "name": "python",
   "nbconvert_exporter": "python",
   "pygments_lexer": "ipython3",
   "version": "3.6.5"
  }
 },
 "nbformat": 4,
 "nbformat_minor": 2
}
